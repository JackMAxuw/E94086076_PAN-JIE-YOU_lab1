{
 "cells": [
  {
   "cell_type": "code",
   "execution_count": 7,
   "id": "151273b3",
   "metadata": {},
   "outputs": [],
   "source": [
    "# reverse function\n",
    "def reverse(number):\n",
    "    \n",
    "    # zreo is used to count there are how many '0' in the tail of a number\n",
    "    zero = 0 \n",
    "    \n",
    "    #\n",
    "    # start to reverse \n",
    "    #\n",
    "    # taking out remaider and add it to \"revs_number\" as well as *10 each time\n",
    "    # by doing so, the function can always take the last digit in a number\n",
    "    # and add it to the \"revs_number\" \n",
    "    #\n",
    "    # set the \"revs_number\" to zero\n",
    "    revs_number = 0 \n",
    "    while (number > 0):\n",
    "        # if there is zero or not\n",
    "        if number % 10 == 0:\n",
    "            # count, if there are zeros\n",
    "            zero = zero + 1\n",
    "        remainder = number % 10  \n",
    "        revs_number = (revs_number * 10) + remainder  \n",
    "        number = number // 10\n",
    "    \n",
    "    # find the size of \"rev\" via casting it to string\n",
    "    sizeof_revs_number = len(str(revs_number))\n",
    "\n",
    "    # print the answer\n",
    "    # if there is zero than convert the number to string \n",
    "    # and add '0' in front of the string via the \"zfill\" function\n",
    "    if zero != 0:\n",
    "        print (str(revs_number).zfill(sizeof_revs_number + zero))\n",
    "    else:\n",
    "        print (revs_number)"
   ]
  },
  {
   "cell_type": "code",
   "execution_count": 8,
   "id": "48af193d",
   "metadata": {},
   "outputs": [
    {
     "name": "stdout",
     "output_type": "stream",
     "text": [
      "Enter an integer: 1234567890\n",
      "0987654321\n"
     ]
    }
   ],
   "source": [
    "# test script\n",
    "num = int(input('Enter an integer: '))\n",
    "reverse(num)"
   ]
  },
  {
   "cell_type": "code",
   "execution_count": null,
   "id": "dab38499",
   "metadata": {},
   "outputs": [],
   "source": []
  }
 ],
 "metadata": {
  "kernelspec": {
   "display_name": "Python 3",
   "language": "python",
   "name": "python3"
  },
  "language_info": {
   "codemirror_mode": {
    "name": "ipython",
    "version": 3
   },
   "file_extension": ".py",
   "mimetype": "text/x-python",
   "name": "python",
   "nbconvert_exporter": "python",
   "pygments_lexer": "ipython3",
   "version": "3.8.8"
  }
 },
 "nbformat": 4,
 "nbformat_minor": 5
}
