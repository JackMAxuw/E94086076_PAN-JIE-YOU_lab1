{
 "cells": [
  {
   "cell_type": "code",
   "execution_count": 1,
   "id": "13b12330",
   "metadata": {},
   "outputs": [],
   "source": [
    "# remove_outliers function\n",
    "def remove_outliers ():\n",
    "    \n",
    "    # create a list for geting data\n",
    "    list = []\n",
    "    \n",
    "    # input remove-value\n",
    "    num = int(input('Enter the number of smallest and largest values to remove:'))\n",
    "    \n",
    "    # input list values\n",
    "    # if the input is 'Q' or 'q', stop input values\n",
    "    # via using bool condition to find out it's quit or not\n",
    "    input_value = True \n",
    "    while (input_value == True):\n",
    "        value = input('Enter a value (q or Q to quit)')\n",
    "        \n",
    "        #if input_value is 'Q' or 'q', it will return a \"False\" and stop looping\n",
    "        if value == 'Q' or value == 'q':\n",
    "            input_value = False\n",
    "        else:\n",
    "            # add values to list\n",
    "            v = int(value)\n",
    "            list.append(v)\n",
    "            input_value = True\n",
    "    \n",
    "    # sort the list\n",
    "    list.sort()\n",
    "    \n",
    "    # create outliers' list\n",
    "    out_list = []\n",
    "    \n",
    "    # find out the length of list\n",
    "    size = len(list)\n",
    "    \n",
    "    # loop th list and remove the smallest as well as the biggest numbers in the list\n",
    "    # and send those removed numbers into \"out_list\"\n",
    "    \n",
    "    # initial i = 0 for begining\n",
    "    i = 0\n",
    "    # remove the smallest numbers from the \"list\" and add it to the \"out_list\"\n",
    "    for i in range(num):\n",
    "        out_list.append(list[i])\n",
    "    # remove the biggest numbers from the \"list\" and add it to the \"out_list\"\n",
    "    for i in range (num):\n",
    "        out_list.append(list[size - i - 1])\n",
    "    \n",
    "    # sort the \"out_list\"\n",
    "    out_list.sort()\n",
    "    \n",
    "    # print result\n",
    "    print ('The original data: ', list)\n",
    "    print(\"The data with the outliers removed: \", list[num : size - num])\n",
    "    print(\"The outliers: \", out_list)"
   ]
  },
  {
   "cell_type": "code",
   "execution_count": 2,
   "id": "f1b15e9a",
   "metadata": {},
   "outputs": [
    {
     "name": "stdout",
     "output_type": "stream",
     "text": [
      "Enter the number of smallest and largest values to remove:2\n",
      "Enter a value (q or Q to quit)1001\n",
      "Enter a value (q or Q to quit)2001\n",
      "Enter a value (q or Q to quit)1\n",
      "Enter a value (q or Q to quit)2\n",
      "Enter a value (q or Q to quit)-1001\n",
      "Enter a value (q or Q to quit)-20\n",
      "Enter a value (q or Q to quit)5\n",
      "Enter a value (q or Q to quit)4\n",
      "Enter a value (q or Q to quit)3\n",
      "Enter a value (q or Q to quit)1\n",
      "Enter a value (q or Q to quit)2\n",
      "Enter a value (q or Q to quit)3\n",
      "Enter a value (q or Q to quit)q\n",
      "The original data:  [-1001, -20, 1, 1, 2, 2, 3, 3, 4, 5, 1001, 2001]\n",
      "The data with the outliers removed:  [1, 1, 2, 2, 3, 3, 4, 5]\n",
      "The outliers:  [-1001, -20, 1001, 2001]\n"
     ]
    }
   ],
   "source": [
    "remove_outliers ()"
   ]
  },
  {
   "cell_type": "code",
   "execution_count": null,
   "id": "5176c892",
   "metadata": {},
   "outputs": [],
   "source": []
  },
  {
   "cell_type": "code",
   "execution_count": null,
   "id": "7f8e8a88",
   "metadata": {},
   "outputs": [],
   "source": []
  }
 ],
 "metadata": {
  "kernelspec": {
   "display_name": "Python 3",
   "language": "python",
   "name": "python3"
  },
  "language_info": {
   "codemirror_mode": {
    "name": "ipython",
    "version": 3
   },
   "file_extension": ".py",
   "mimetype": "text/x-python",
   "name": "python",
   "nbconvert_exporter": "python",
   "pygments_lexer": "ipython3",
   "version": "3.8.8"
  }
 },
 "nbformat": 4,
 "nbformat_minor": 5
}
